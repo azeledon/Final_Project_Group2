{
 "cells": [
  {
   "cell_type": "code",
   "execution_count": 1,
   "id": "99df2662",
   "metadata": {},
   "outputs": [],
   "source": [
    "import pandas as pd\n",
    "import numpy as np\n",
    "import statsmodels.api as sm"
   ]
  },
  {
   "cell_type": "code",
   "execution_count": 2,
   "id": "c32b59d4",
   "metadata": {},
   "outputs": [],
   "source": [
    "# Load the data from the CSV file\n",
    "df = pd.read_csv('../Queries/product_revenue.csv')"
   ]
  },
  {
   "cell_type": "code",
   "execution_count": 3,
   "id": "2b7bfae7",
   "metadata": {},
   "outputs": [],
   "source": [
    "# Filter the data for the year 2021\n",
    "df = df[df['order_year'] == 2021]"
   ]
  },
  {
   "cell_type": "code",
   "execution_count": 4,
   "id": "c5b37e93",
   "metadata": {},
   "outputs": [],
   "source": [
    "# Train a linear regression model to predict total revenue\n",
    "X = df[['order_month']]\n",
    "y = df['total_revenue']\n",
    "X = sm.add_constant(X)  # Add a constant term to the input features\n",
    "model = sm.OLS(y, X)\n",
    "results = model.fit()"
   ]
  },
  {
   "cell_type": "code",
   "execution_count": 6,
   "id": "9375fa6b",
   "metadata": {},
   "outputs": [
    {
     "name": "stdout",
     "output_type": "stream",
     "text": [
      "Linear Regression Statistics:\n",
      "----------------------------\n",
      "Coefficient: -743.36\n",
      "P-value: 0.0260\n",
      "R-squared: 0.1649\n",
      "Adjusted R-squared: 0.1351\n",
      "Standard error of the estimate: 4973.27\n",
      "F-statistic: 5.53\n",
      "Degrees of freedom (DF): 1.0, 28.0\n"
     ]
    }
   ],
   "source": [
    "# Print the regression statistics\n",
    "print('Linear Regression Statistics:')\n",
    "print('----------------------------')\n",
    "print('Coefficient: {:.2f}'.format(results.params['order_month']))\n",
    "print('P-value: {:.4f}'.format(results.pvalues['order_month']))\n",
    "print('R-squared: {:.4f}'.format(results.rsquared))\n",
    "print('Adjusted R-squared: {:.4f}'.format(results.rsquared_adj))\n",
    "print('Standard error of the estimate: {:.2f}'.format(np.sqrt(results.mse_resid)))\n",
    "print('F-statistic: {:.2f}'.format(results.fvalue))\n",
    "print('Degrees of freedom (DF): {}, {}'.format(results.df_model, results.df_resid))"
   ]
  },
  {
   "cell_type": "code",
   "execution_count": 7,
   "id": "1f3d75ec",
   "metadata": {},
   "outputs": [
    {
     "name": "stdout",
     "output_type": "stream",
     "text": [
      "Predicted revenue for Q4 2021 (in dollars):\n",
      "-------------------------------------------\n",
      "October: 31048.22\n",
      "November: 30304.87\n",
      "December: 29561.51\n",
      "Total: 90914.60\n"
     ]
    }
   ],
   "source": [
    "# Predict the total revenue for the next quarter (October to December)\n",
    "X_pred = sm.add_constant([[10], [11], [12]])  # Input features for the next quarter\n",
    "y_pred = results.predict(X_pred)  # Predicted revenue for the next quarter\n",
    "\n",
    "# Print the predicted revenue for the next quarter\n",
    "print('Predicted revenue for Q4 2021 (in dollars):')\n",
    "print('-------------------------------------------')\n",
    "print('October: {:.2f}'.format(y_pred[0]))\n",
    "print('November: {:.2f}'.format(y_pred[1]))\n",
    "print('December: {:.2f}'.format(y_pred[2]))\n",
    "print('Total: {:.2f}'.format(y_pred.sum()))\n"
   ]
  },
  {
   "cell_type": "code",
   "execution_count": 8,
   "id": "48881c45",
   "metadata": {},
   "outputs": [
    {
     "data": {
      "text/html": [
       "<div>\n",
       "<style scoped>\n",
       "    .dataframe tbody tr th:only-of-type {\n",
       "        vertical-align: middle;\n",
       "    }\n",
       "\n",
       "    .dataframe tbody tr th {\n",
       "        vertical-align: top;\n",
       "    }\n",
       "\n",
       "    .dataframe thead th {\n",
       "        text-align: right;\n",
       "    }\n",
       "</style>\n",
       "<table border=\"1\" class=\"dataframe\">\n",
       "  <thead>\n",
       "    <tr style=\"text-align: right;\">\n",
       "      <th></th>\n",
       "      <th>product_type</th>\n",
       "      <th>order_year</th>\n",
       "      <th>order_month</th>\n",
       "      <th>total_revenue</th>\n",
       "    </tr>\n",
       "  </thead>\n",
       "  <tbody>\n",
       "    <tr>\n",
       "      <th>0</th>\n",
       "      <td>Trousers</td>\n",
       "      <td>2021</td>\n",
       "      <td>1</td>\n",
       "      <td>40317</td>\n",
       "    </tr>\n",
       "    <tr>\n",
       "      <th>1</th>\n",
       "      <td>Trousers</td>\n",
       "      <td>2021</td>\n",
       "      <td>2</td>\n",
       "      <td>33662</td>\n",
       "    </tr>\n",
       "    <tr>\n",
       "      <th>2</th>\n",
       "      <td>Shirt</td>\n",
       "      <td>2021</td>\n",
       "      <td>9</td>\n",
       "      <td>32285</td>\n",
       "    </tr>\n",
       "    <tr>\n",
       "      <th>3</th>\n",
       "      <td>Jacket</td>\n",
       "      <td>2021</td>\n",
       "      <td>4</td>\n",
       "      <td>33790</td>\n",
       "    </tr>\n",
       "    <tr>\n",
       "      <th>4</th>\n",
       "      <td>Jacket</td>\n",
       "      <td>2021</td>\n",
       "      <td>8</td>\n",
       "      <td>38281</td>\n",
       "    </tr>\n",
       "  </tbody>\n",
       "</table>\n",
       "</div>"
      ],
      "text/plain": [
       "  product_type  order_year  order_month  total_revenue\n",
       "0     Trousers        2021            1          40317\n",
       "1     Trousers        2021            2          33662\n",
       "2        Shirt        2021            9          32285\n",
       "3       Jacket        2021            4          33790\n",
       "4       Jacket        2021            8          38281"
      ]
     },
     "execution_count": 8,
     "metadata": {},
     "output_type": "execute_result"
    }
   ],
   "source": [
    "df.head()"
   ]
  },
  {
   "cell_type": "code",
   "execution_count": 9,
   "id": "c92604ac",
   "metadata": {},
   "outputs": [
    {
     "data": {
      "text/html": [
       "<div>\n",
       "<style scoped>\n",
       "    .dataframe tbody tr th:only-of-type {\n",
       "        vertical-align: middle;\n",
       "    }\n",
       "\n",
       "    .dataframe tbody tr th {\n",
       "        vertical-align: top;\n",
       "    }\n",
       "\n",
       "    .dataframe thead th {\n",
       "        text-align: right;\n",
       "    }\n",
       "</style>\n",
       "<table border=\"1\" class=\"dataframe\">\n",
       "  <thead>\n",
       "    <tr style=\"text-align: right;\">\n",
       "      <th></th>\n",
       "      <th>order_year</th>\n",
       "      <th>order_month</th>\n",
       "      <th>total_revenue</th>\n",
       "    </tr>\n",
       "  </thead>\n",
       "  <tbody>\n",
       "    <tr>\n",
       "      <th>count</th>\n",
       "      <td>30.0</td>\n",
       "      <td>30.000000</td>\n",
       "      <td>30.000000</td>\n",
       "    </tr>\n",
       "    <tr>\n",
       "      <th>mean</th>\n",
       "      <td>2021.0</td>\n",
       "      <td>5.500000</td>\n",
       "      <td>34393.333333</td>\n",
       "    </tr>\n",
       "    <tr>\n",
       "      <th>std</th>\n",
       "      <td>0.0</td>\n",
       "      <td>2.921384</td>\n",
       "      <td>5347.569685</td>\n",
       "    </tr>\n",
       "    <tr>\n",
       "      <th>min</th>\n",
       "      <td>2021.0</td>\n",
       "      <td>1.000000</td>\n",
       "      <td>24040.000000</td>\n",
       "    </tr>\n",
       "    <tr>\n",
       "      <th>25%</th>\n",
       "      <td>2021.0</td>\n",
       "      <td>3.000000</td>\n",
       "      <td>30763.750000</td>\n",
       "    </tr>\n",
       "    <tr>\n",
       "      <th>50%</th>\n",
       "      <td>2021.0</td>\n",
       "      <td>5.500000</td>\n",
       "      <td>33691.000000</td>\n",
       "    </tr>\n",
       "    <tr>\n",
       "      <th>75%</th>\n",
       "      <td>2021.0</td>\n",
       "      <td>8.000000</td>\n",
       "      <td>37836.000000</td>\n",
       "    </tr>\n",
       "    <tr>\n",
       "      <th>max</th>\n",
       "      <td>2021.0</td>\n",
       "      <td>10.000000</td>\n",
       "      <td>45376.000000</td>\n",
       "    </tr>\n",
       "  </tbody>\n",
       "</table>\n",
       "</div>"
      ],
      "text/plain": [
       "       order_year  order_month  total_revenue\n",
       "count        30.0    30.000000      30.000000\n",
       "mean       2021.0     5.500000   34393.333333\n",
       "std           0.0     2.921384    5347.569685\n",
       "min        2021.0     1.000000   24040.000000\n",
       "25%        2021.0     3.000000   30763.750000\n",
       "50%        2021.0     5.500000   33691.000000\n",
       "75%        2021.0     8.000000   37836.000000\n",
       "max        2021.0    10.000000   45376.000000"
      ]
     },
     "execution_count": 9,
     "metadata": {},
     "output_type": "execute_result"
    }
   ],
   "source": [
    "df.describe()"
   ]
  },
  {
   "cell_type": "code",
   "execution_count": null,
   "id": "3b0ce4d5",
   "metadata": {},
   "outputs": [],
   "source": []
  }
 ],
 "metadata": {
  "kernelspec": {
   "display_name": "Python 3 (ipykernel)",
   "language": "python",
   "name": "python3"
  },
  "language_info": {
   "codemirror_mode": {
    "name": "ipython",
    "version": 3
   },
   "file_extension": ".py",
   "mimetype": "text/x-python",
   "name": "python",
   "nbconvert_exporter": "python",
   "pygments_lexer": "ipython3",
   "version": "3.9.15"
  }
 },
 "nbformat": 4,
 "nbformat_minor": 5
}
