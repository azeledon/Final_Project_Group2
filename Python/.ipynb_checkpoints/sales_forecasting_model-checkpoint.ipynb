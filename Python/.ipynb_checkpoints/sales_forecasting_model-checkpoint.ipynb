{
 "cells": [
  {
   "cell_type": "code",
   "execution_count": 46,
   "id": "5246b6d6",
   "metadata": {},
   "outputs": [],
   "source": [
    "import pandas as pd\n",
    "from sklearn.metrics import mean_squared_error\n",
    "from statsmodels.tsa.arima.model import ARIMA"
   ]
  },
  {
   "cell_type": "code",
   "execution_count": 47,
   "id": "7f56fedb",
   "metadata": {},
   "outputs": [],
   "source": [
    "# Load the data into a pandas dataframe\n",
    "df = pd.read_csv(\"../Queries/order_history.csv\")"
   ]
  },
  {
   "cell_type": "code",
   "execution_count": 48,
   "id": "67da6c0c",
   "metadata": {},
   "outputs": [
    {
     "data": {
      "text/html": [
       "<div>\n",
       "<style scoped>\n",
       "    .dataframe tbody tr th:only-of-type {\n",
       "        vertical-align: middle;\n",
       "    }\n",
       "\n",
       "    .dataframe tbody tr th {\n",
       "        vertical-align: top;\n",
       "    }\n",
       "\n",
       "    .dataframe thead th {\n",
       "        text-align: right;\n",
       "    }\n",
       "</style>\n",
       "<table border=\"1\" class=\"dataframe\">\n",
       "  <thead>\n",
       "    <tr style=\"text-align: right;\">\n",
       "      <th></th>\n",
       "      <th>customer_id</th>\n",
       "      <th>order_id</th>\n",
       "      <th>order_date</th>\n",
       "      <th>product_type</th>\n",
       "      <th>quantity</th>\n",
       "    </tr>\n",
       "  </thead>\n",
       "  <tbody>\n",
       "    <tr>\n",
       "      <th>0</th>\n",
       "      <td>1</td>\n",
       "      <td>455</td>\n",
       "      <td>2021-04-04</td>\n",
       "      <td>Jacket</td>\n",
       "      <td>2</td>\n",
       "    </tr>\n",
       "    <tr>\n",
       "      <th>1</th>\n",
       "      <td>1</td>\n",
       "      <td>455</td>\n",
       "      <td>2021-04-04</td>\n",
       "      <td>Shirt</td>\n",
       "      <td>3</td>\n",
       "    </tr>\n",
       "    <tr>\n",
       "      <th>2</th>\n",
       "      <td>1</td>\n",
       "      <td>670</td>\n",
       "      <td>2021-03-06</td>\n",
       "      <td>Jacket</td>\n",
       "      <td>2</td>\n",
       "    </tr>\n",
       "    <tr>\n",
       "      <th>3</th>\n",
       "      <td>1</td>\n",
       "      <td>670</td>\n",
       "      <td>2021-03-06</td>\n",
       "      <td>Jacket</td>\n",
       "      <td>2</td>\n",
       "    </tr>\n",
       "    <tr>\n",
       "      <th>4</th>\n",
       "      <td>1</td>\n",
       "      <td>670</td>\n",
       "      <td>2021-03-06</td>\n",
       "      <td>Shirt</td>\n",
       "      <td>1</td>\n",
       "    </tr>\n",
       "  </tbody>\n",
       "</table>\n",
       "</div>"
      ],
      "text/plain": [
       "   customer_id  order_id  order_date product_type  quantity\n",
       "0            1       455  2021-04-04       Jacket         2\n",
       "1            1       455  2021-04-04        Shirt         3\n",
       "2            1       670  2021-03-06       Jacket         2\n",
       "3            1       670  2021-03-06       Jacket         2\n",
       "4            1       670  2021-03-06        Shirt         1"
      ]
     },
     "execution_count": 48,
     "metadata": {},
     "output_type": "execute_result"
    }
   ],
   "source": [
    "# Convert the order_date column to datetime datatype and set it as the index\n",
    "df.head()"
   ]
  },
  {
   "cell_type": "code",
   "execution_count": 50,
   "id": "c51041e8",
   "metadata": {},
   "outputs": [],
   "source": [
    "df['order_date'] = pd.to_datetime(df['order_date'])\n"
   ]
  },
  {
   "cell_type": "code",
   "execution_count": 51,
   "id": "d49eaf05",
   "metadata": {},
   "outputs": [
    {
     "data": {
      "text/html": [
       "<div>\n",
       "<style scoped>\n",
       "    .dataframe tbody tr th:only-of-type {\n",
       "        vertical-align: middle;\n",
       "    }\n",
       "\n",
       "    .dataframe tbody tr th {\n",
       "        vertical-align: top;\n",
       "    }\n",
       "\n",
       "    .dataframe thead th {\n",
       "        text-align: right;\n",
       "    }\n",
       "</style>\n",
       "<table border=\"1\" class=\"dataframe\">\n",
       "  <thead>\n",
       "    <tr style=\"text-align: right;\">\n",
       "      <th></th>\n",
       "      <th>customer_id</th>\n",
       "      <th>order_id</th>\n",
       "      <th>order_date</th>\n",
       "      <th>product_type</th>\n",
       "      <th>quantity</th>\n",
       "    </tr>\n",
       "  </thead>\n",
       "  <tbody>\n",
       "    <tr>\n",
       "      <th>0</th>\n",
       "      <td>1</td>\n",
       "      <td>455</td>\n",
       "      <td>2021-04-04</td>\n",
       "      <td>Jacket</td>\n",
       "      <td>2</td>\n",
       "    </tr>\n",
       "    <tr>\n",
       "      <th>1</th>\n",
       "      <td>1</td>\n",
       "      <td>455</td>\n",
       "      <td>2021-04-04</td>\n",
       "      <td>Shirt</td>\n",
       "      <td>3</td>\n",
       "    </tr>\n",
       "    <tr>\n",
       "      <th>2</th>\n",
       "      <td>1</td>\n",
       "      <td>670</td>\n",
       "      <td>2021-03-06</td>\n",
       "      <td>Jacket</td>\n",
       "      <td>2</td>\n",
       "    </tr>\n",
       "    <tr>\n",
       "      <th>3</th>\n",
       "      <td>1</td>\n",
       "      <td>670</td>\n",
       "      <td>2021-03-06</td>\n",
       "      <td>Jacket</td>\n",
       "      <td>2</td>\n",
       "    </tr>\n",
       "    <tr>\n",
       "      <th>4</th>\n",
       "      <td>1</td>\n",
       "      <td>670</td>\n",
       "      <td>2021-03-06</td>\n",
       "      <td>Shirt</td>\n",
       "      <td>1</td>\n",
       "    </tr>\n",
       "  </tbody>\n",
       "</table>\n",
       "</div>"
      ],
      "text/plain": [
       "   customer_id  order_id order_date product_type  quantity\n",
       "0            1       455 2021-04-04       Jacket         2\n",
       "1            1       455 2021-04-04        Shirt         3\n",
       "2            1       670 2021-03-06       Jacket         2\n",
       "3            1       670 2021-03-06       Jacket         2\n",
       "4            1       670 2021-03-06        Shirt         1"
      ]
     },
     "execution_count": 51,
     "metadata": {},
     "output_type": "execute_result"
    }
   ],
   "source": [
    "df.head()"
   ]
  },
  {
   "cell_type": "code",
   "execution_count": null,
   "id": "f3abac6c",
   "metadata": {},
   "outputs": [],
   "source": [
    "\n"
   ]
  },
  {
   "cell_type": "code",
   "execution_count": 53,
   "id": "1d33b887",
   "metadata": {},
   "outputs": [
    {
     "name": "stdout",
     "output_type": "stream",
     "text": [
      "datetime64[ns]\n"
     ]
    }
   ],
   "source": [
    "print(df[\"order_date\"].dtypes)\n"
   ]
  },
  {
   "cell_type": "code",
   "execution_count": null,
   "id": "326ee496",
   "metadata": {},
   "outputs": [],
   "source": []
  },
  {
   "cell_type": "code",
   "execution_count": 55,
   "id": "8f08340c",
   "metadata": {},
   "outputs": [],
   "source": [
    "df = df.set_index(\"order_date\")\n"
   ]
  },
  {
   "cell_type": "code",
   "execution_count": 56,
   "id": "0c130e8f",
   "metadata": {},
   "outputs": [],
   "source": [
    "grouped = df.groupby(\"product_type\").resample(\"M\")\n",
    "monthly_totals = grouped[\"quantity\"].sum()\n"
   ]
  },
  {
   "cell_type": "code",
   "execution_count": 57,
   "id": "9b3a304e",
   "metadata": {},
   "outputs": [
    {
     "data": {
      "text/plain": [
       "product_type  order_date\n",
       "Jacket        2021-01-31    395\n",
       "              2021-02-28    316\n",
       "              2021-03-31    427\n",
       "              2021-04-30    318\n",
       "              2021-05-31    289\n",
       "Name: quantity, dtype: int64"
      ]
     },
     "execution_count": 57,
     "metadata": {},
     "output_type": "execute_result"
    }
   ],
   "source": [
    "monthly_totals.head()"
   ]
  },
  {
   "cell_type": "code",
   "execution_count": 61,
   "id": "c310c964",
   "metadata": {},
   "outputs": [],
   "source": [
    "def create_product_df(group):\n",
    "    product_type = group[\"product_type\"].iloc[0]\n",
    "    data = group[[\"quantity\"]].sum()\n",
    "    return pd.DataFrame(data, columns=[\"quantity\"])\n",
    "\n",
    "products = {}\n",
    "for product_type, group in df.groupby(\"product_type\"):\n",
    "    resampled = group.resample(\"M\")\n",
    "    for month, data in resampled:\n",
    "        if product_type not in products:\n",
    "            products[product_type] = create_product_df(data)\n",
    "        else:\n",
    "            products[product_type] = pd.concat([products[product_type], create_product_df(data)])\n"
   ]
  },
  {
   "cell_type": "code",
   "execution_count": null,
   "id": "f0037ccb",
   "metadata": {},
   "outputs": [],
   "source": []
  },
  {
   "cell_type": "code",
   "execution_count": null,
   "id": "477c34d4",
   "metadata": {},
   "outputs": [],
   "source": []
  },
  {
   "cell_type": "code",
   "execution_count": 67,
   "id": "54a53cab",
   "metadata": {},
   "outputs": [
    {
     "name": "stdout",
     "output_type": "stream",
     "text": [
      "Jacket: data (9): [0 1 2 3 4 5 6 7 8], train_data (7): [0 1 2 3 4 5 6], test_data (2): [0 1]\n",
      "Shirt: data (9): [0 1 2 3 4 5 6 7 8], train_data (7): [0 1 2 3 4 5 6], test_data (2): [0 1]\n",
      "Pants: data (9): [0 1 2 3 4 5 6 7 8], train_data (7): [0 1 2 3 4 5 6], test_data (2): [0 1]\n"
     ]
    }
   ],
   "source": [
    "import pandas as pd\n",
    "\n",
    "# define the data and train_size\n",
    "data = [0, 1, 2, 3, 4, 5, 6, 7, 8]\n",
    "train_size = 7\n",
    "\n",
    "# create a dictionary for each product\n",
    "products = {\n",
    "    \"Jacket\": {},\n",
    "    \"Shirt\": {},\n",
    "    \"Pants\": {}\n",
    "}\n",
    "\n",
    "# set the train_data and test_data arrays as values in each product dictionary\n",
    "for name in products.keys():\n",
    "    train_data, test_data = data[:train_size], data[train_size:]\n",
    "    products[name][\"train_data\"] = train_data\n",
    "    products[name][\"test_data\"] = test_data\n",
    "\n",
    "    print(f\"{name}: data ({len(data)}): {pd.Series(data).index.values}, train_data ({len(train_data)}): {pd.Series(train_data).index.values}, test_data ({len(test_data)}): {pd.Series(test_data).index.values}\")\n"
   ]
  },
  {
   "cell_type": "code",
   "execution_count": null,
   "id": "34d2c65b",
   "metadata": {},
   "outputs": [],
   "source": []
  },
  {
   "cell_type": "code",
   "execution_count": 69,
   "id": "9ec42ff0",
   "metadata": {},
   "outputs": [
    {
     "name": "stderr",
     "output_type": "stream",
     "text": [
      "C:\\Users\\valer\\anaconda3\\lib\\site-packages\\statsmodels\\tsa\\statespace\\sarimax.py:966: UserWarning: Non-stationary starting autoregressive parameters found. Using zeros as starting parameters.\n",
      "  warn('Non-stationary starting autoregressive parameters'\n",
      "C:\\Users\\valer\\anaconda3\\lib\\site-packages\\statsmodels\\base\\model.py:604: ConvergenceWarning: Maximum Likelihood optimization failed to converge. Check mle_retvals\n",
      "  warnings.warn(\"Maximum Likelihood optimization failed to \"\n"
     ]
    },
    {
     "name": "stdout",
     "output_type": "stream",
     "text": [
      "Jacket: 6.999855657205232\n",
      "Shirt: 6.999855657205232\n",
      "Pants: 6.999855657205232\n"
     ]
    },
    {
     "name": "stderr",
     "output_type": "stream",
     "text": [
      "C:\\Users\\valer\\anaconda3\\lib\\site-packages\\statsmodels\\base\\model.py:604: ConvergenceWarning: Maximum Likelihood optimization failed to converge. Check mle_retvals\n",
      "  warnings.warn(\"Maximum Likelihood optimization failed to \"\n",
      "C:\\Users\\valer\\anaconda3\\lib\\site-packages\\statsmodels\\base\\model.py:604: ConvergenceWarning: Maximum Likelihood optimization failed to converge. Check mle_retvals\n",
      "  warnings.warn(\"Maximum Likelihood optimization failed to \"\n"
     ]
    }
   ],
   "source": [
    "import numpy as np\n",
    "import pandas as pd\n",
    "from statsmodels.tsa.arima.model import ARIMA\n",
    "\n",
    "# define the data and train_size\n",
    "data = [0, 1, 2, 3, 4, 5, 6, 7, 8]\n",
    "train_size = 7\n",
    "\n",
    "# create a dictionary for each product\n",
    "products = {\n",
    "    \"Jacket\": {},\n",
    "    \"Shirt\": {},\n",
    "    \"Pants\": {}\n",
    "}\n",
    "\n",
    "# set the train_data and test_data arrays as values in each product dictionary\n",
    "for name in products.keys():\n",
    "    train_data, test_data = data[:train_size], data[train_size:]\n",
    "    products[name][\"train_data\"] = train_data\n",
    "    products[name][\"test_data\"] = test_data\n",
    "\n",
    "    # fit an ARIMA model to the training data and forecast the next month's sales\n",
    "    model = ARIMA(train_data, order=(1, 1, 1))\n",
    "    model_fit = model.fit()\n",
    "    forecast = model_fit.forecast()[0]\n",
    "    products[name][\"forecast\"] = forecast\n",
    "\n",
    "    # print the forecast for the next month\n",
    "    print(f\"{name}: {forecast}\")\n"
   ]
  },
  {
   "cell_type": "code",
   "execution_count": 74,
   "id": "dd21e99a",
   "metadata": {},
   "outputs": [
    {
     "ename": "IndentationError",
     "evalue": "expected an indented block (544215252.py, line 28)",
     "output_type": "error",
     "traceback": [
      "\u001b[1;36m  Cell \u001b[1;32mIn[74], line 28\u001b[1;36m\u001b[0m\n\u001b[1;33m    forecast = products[name][\"model\"].forecast(steps=1, exog=[input_data[-1]])[-1]\u001b[0m\n\u001b[1;37m    ^\u001b[0m\n\u001b[1;31mIndentationError\u001b[0m\u001b[1;31m:\u001b[0m expected an indented block\n"
     ]
    }
   ],
   "source": [
    "from statsmodels.tsa.statespace.sarimax import SARIMAX\n",
    "\n",
    "# create a dictionary to hold the trained model and test data for each product\n",
    "products = {}\n",
    "\n",
    "# loop through each product and fit an ARIMA model\n",
    "for name in df[\"product_type\"].unique():\n",
    "    # filter the data for the current product\n",
    "    product_data = df[df[\"product_type\"] == name][\"quantity\"]\n",
    "    \n",
    "    # create a differenced series\n",
    "    diff_data = product_data.diff().dropna()\n",
    "    \n",
    "    # fit a seasonal ARIMA model with auto-arima\n",
    "    model = SARIMAX(diff_data, order=(1, 1, 1), seasonal_order=(1, 1, 0, 12), enforce_stationarity=False, enforce_invertibility=False)\n",
    "    model_fit = model.fit()\n",
    "    \n",
    "    # store the model and test data for the current product\n",
    "    products[name] = {\"model\": model_fit, \"test_data\": product_data[-12:].values}\n",
    "\n",
    "# forecast sales for the next month for each product\n",
    "predictions = []\n",
    "for name in products:\n",
    "    # use the last 12 months of sales data as input to the model\n",
    "    input_data = products[name][\"test_data\"]\n",
    "    \n",
    "    if len(input_data) > 0:\n",
    "    forecast = products[name][\"model\"].forecast(steps=1, exog=[input_data[-1]])[-1]\n",
    "else:\n",
    "    forecast = None\n",
    "\n",
    "\n",
    "# print the forecast for the next month for each product\n",
    "for i, name in enumerate(products):\n",
    "    print(f\"Next month's forecast for {name}: {predictions[i]}\")\n"
   ]
  },
  {
   "cell_type": "code",
   "execution_count": 71,
   "id": "22e9ae96",
   "metadata": {},
   "outputs": [
    {
     "name": "stdout",
     "output_type": "stream",
     "text": [
      "Index(['customer_id', 'order_id', 'product_type', 'quantity'], dtype='object')\n"
     ]
    }
   ],
   "source": [
    "print(df.columns)\n"
   ]
  },
  {
   "cell_type": "code",
   "execution_count": null,
   "id": "9a34b409",
   "metadata": {},
   "outputs": [],
   "source": []
  }
 ],
 "metadata": {
  "kernelspec": {
   "display_name": "Python 3 (ipykernel)",
   "language": "python",
   "name": "python3"
  },
  "language_info": {
   "codemirror_mode": {
    "name": "ipython",
    "version": 3
   },
   "file_extension": ".py",
   "mimetype": "text/x-python",
   "name": "python",
   "nbconvert_exporter": "python",
   "pygments_lexer": "ipython3",
   "version": "3.9.15"
  }
 },
 "nbformat": 4,
 "nbformat_minor": 5
}
