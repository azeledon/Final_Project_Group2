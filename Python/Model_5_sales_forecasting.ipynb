{
 "cells": [
  {
   "cell_type": "markdown",
   "id": "58779cc3",
   "metadata": {},
   "source": [
    "# Sales Forecasting Model"
   ]
  },
  {
   "cell_type": "code",
   "execution_count": 19,
   "id": "958a1b18",
   "metadata": {},
   "outputs": [],
   "source": [
    "import pandas as pd\n",
    "from sklearn.metrics import mean_squared_error\n",
    "from statsmodels.tsa.arima.model import ARIMA\n",
    "import numpy as np"
   ]
  },
  {
   "cell_type": "code",
   "execution_count": 20,
   "id": "593dbb0a",
   "metadata": {},
   "outputs": [],
   "source": [
    "# Load the data into a pandas dataframe\n",
    "df = pd.read_csv(\"../Queries/order_history.csv\")"
   ]
  },
  {
   "cell_type": "code",
   "execution_count": 21,
   "id": "fbde8314",
   "metadata": {},
   "outputs": [
    {
     "data": {
      "text/html": [
       "<div>\n",
       "<style scoped>\n",
       "    .dataframe tbody tr th:only-of-type {\n",
       "        vertical-align: middle;\n",
       "    }\n",
       "\n",
       "    .dataframe tbody tr th {\n",
       "        vertical-align: top;\n",
       "    }\n",
       "\n",
       "    .dataframe thead th {\n",
       "        text-align: right;\n",
       "    }\n",
       "</style>\n",
       "<table border=\"1\" class=\"dataframe\">\n",
       "  <thead>\n",
       "    <tr style=\"text-align: right;\">\n",
       "      <th></th>\n",
       "      <th>customer_id</th>\n",
       "      <th>order_id</th>\n",
       "      <th>order_date</th>\n",
       "      <th>product_type</th>\n",
       "      <th>quantity</th>\n",
       "    </tr>\n",
       "  </thead>\n",
       "  <tbody>\n",
       "    <tr>\n",
       "      <th>0</th>\n",
       "      <td>1</td>\n",
       "      <td>455</td>\n",
       "      <td>2021-04-04</td>\n",
       "      <td>Jacket</td>\n",
       "      <td>2</td>\n",
       "    </tr>\n",
       "    <tr>\n",
       "      <th>1</th>\n",
       "      <td>1</td>\n",
       "      <td>455</td>\n",
       "      <td>2021-04-04</td>\n",
       "      <td>Shirt</td>\n",
       "      <td>3</td>\n",
       "    </tr>\n",
       "    <tr>\n",
       "      <th>2</th>\n",
       "      <td>1</td>\n",
       "      <td>670</td>\n",
       "      <td>2021-03-06</td>\n",
       "      <td>Jacket</td>\n",
       "      <td>2</td>\n",
       "    </tr>\n",
       "    <tr>\n",
       "      <th>3</th>\n",
       "      <td>1</td>\n",
       "      <td>670</td>\n",
       "      <td>2021-03-06</td>\n",
       "      <td>Jacket</td>\n",
       "      <td>2</td>\n",
       "    </tr>\n",
       "    <tr>\n",
       "      <th>4</th>\n",
       "      <td>1</td>\n",
       "      <td>670</td>\n",
       "      <td>2021-03-06</td>\n",
       "      <td>Shirt</td>\n",
       "      <td>1</td>\n",
       "    </tr>\n",
       "    <tr>\n",
       "      <th>...</th>\n",
       "      <td>...</td>\n",
       "      <td>...</td>\n",
       "      <td>...</td>\n",
       "      <td>...</td>\n",
       "      <td>...</td>\n",
       "    </tr>\n",
       "    <tr>\n",
       "      <th>4575</th>\n",
       "      <td>998</td>\n",
       "      <td>773</td>\n",
       "      <td>2021-07-19</td>\n",
       "      <td>Shirt</td>\n",
       "      <td>2</td>\n",
       "    </tr>\n",
       "    <tr>\n",
       "      <th>4576</th>\n",
       "      <td>998</td>\n",
       "      <td>773</td>\n",
       "      <td>2021-07-19</td>\n",
       "      <td>Jacket</td>\n",
       "      <td>3</td>\n",
       "    </tr>\n",
       "    <tr>\n",
       "      <th>4577</th>\n",
       "      <td>998</td>\n",
       "      <td>773</td>\n",
       "      <td>2021-07-19</td>\n",
       "      <td>Shirt</td>\n",
       "      <td>2</td>\n",
       "    </tr>\n",
       "    <tr>\n",
       "      <th>4578</th>\n",
       "      <td>998</td>\n",
       "      <td>773</td>\n",
       "      <td>2021-07-19</td>\n",
       "      <td>Shirt</td>\n",
       "      <td>1</td>\n",
       "    </tr>\n",
       "    <tr>\n",
       "      <th>4579</th>\n",
       "      <td>998</td>\n",
       "      <td>773</td>\n",
       "      <td>2021-07-19</td>\n",
       "      <td>Trousers</td>\n",
       "      <td>2</td>\n",
       "    </tr>\n",
       "  </tbody>\n",
       "</table>\n",
       "<p>4580 rows × 5 columns</p>\n",
       "</div>"
      ],
      "text/plain": [
       "      customer_id  order_id  order_date product_type  quantity\n",
       "0               1       455  2021-04-04       Jacket         2\n",
       "1               1       455  2021-04-04        Shirt         3\n",
       "2               1       670  2021-03-06       Jacket         2\n",
       "3               1       670  2021-03-06       Jacket         2\n",
       "4               1       670  2021-03-06        Shirt         1\n",
       "...           ...       ...         ...          ...       ...\n",
       "4575          998       773  2021-07-19        Shirt         2\n",
       "4576          998       773  2021-07-19       Jacket         3\n",
       "4577          998       773  2021-07-19        Shirt         2\n",
       "4578          998       773  2021-07-19        Shirt         1\n",
       "4579          998       773  2021-07-19     Trousers         2\n",
       "\n",
       "[4580 rows x 5 columns]"
      ]
     },
     "execution_count": 21,
     "metadata": {},
     "output_type": "execute_result"
    }
   ],
   "source": [
    "df"
   ]
  },
  {
   "cell_type": "code",
   "execution_count": 22,
   "id": "20a9d5b2",
   "metadata": {},
   "outputs": [
    {
     "name": "stdout",
     "output_type": "stream",
     "text": [
      "<class 'pandas.core.frame.DataFrame'>\n",
      "RangeIndex: 4580 entries, 0 to 4579\n",
      "Data columns (total 5 columns):\n",
      " #   Column        Non-Null Count  Dtype \n",
      "---  ------        --------------  ----- \n",
      " 0   customer_id   4580 non-null   int64 \n",
      " 1   order_id      4580 non-null   int64 \n",
      " 2   order_date    4580 non-null   object\n",
      " 3   product_type  4580 non-null   object\n",
      " 4   quantity      4580 non-null   int64 \n",
      "dtypes: int64(3), object(2)\n",
      "memory usage: 179.0+ KB\n"
     ]
    }
   ],
   "source": [
    "df.info()"
   ]
  },
  {
   "cell_type": "code",
   "execution_count": 23,
   "id": "7671611c",
   "metadata": {},
   "outputs": [],
   "source": [
    "# Convert the order_date column to datetime datatype and set it as the index\n",
    "df['order_date'] = pd.to_datetime(df['order_date'])"
   ]
  },
  {
   "cell_type": "code",
   "execution_count": 24,
   "id": "6bb48b5f",
   "metadata": {},
   "outputs": [
    {
     "data": {
      "text/html": [
       "<div>\n",
       "<style scoped>\n",
       "    .dataframe tbody tr th:only-of-type {\n",
       "        vertical-align: middle;\n",
       "    }\n",
       "\n",
       "    .dataframe tbody tr th {\n",
       "        vertical-align: top;\n",
       "    }\n",
       "\n",
       "    .dataframe thead th {\n",
       "        text-align: right;\n",
       "    }\n",
       "</style>\n",
       "<table border=\"1\" class=\"dataframe\">\n",
       "  <thead>\n",
       "    <tr style=\"text-align: right;\">\n",
       "      <th></th>\n",
       "      <th>customer_id</th>\n",
       "      <th>order_id</th>\n",
       "      <th>order_date</th>\n",
       "      <th>product_type</th>\n",
       "      <th>quantity</th>\n",
       "    </tr>\n",
       "  </thead>\n",
       "  <tbody>\n",
       "    <tr>\n",
       "      <th>0</th>\n",
       "      <td>1</td>\n",
       "      <td>455</td>\n",
       "      <td>2021-04-04</td>\n",
       "      <td>Jacket</td>\n",
       "      <td>2</td>\n",
       "    </tr>\n",
       "    <tr>\n",
       "      <th>1</th>\n",
       "      <td>1</td>\n",
       "      <td>455</td>\n",
       "      <td>2021-04-04</td>\n",
       "      <td>Shirt</td>\n",
       "      <td>3</td>\n",
       "    </tr>\n",
       "    <tr>\n",
       "      <th>2</th>\n",
       "      <td>1</td>\n",
       "      <td>670</td>\n",
       "      <td>2021-03-06</td>\n",
       "      <td>Jacket</td>\n",
       "      <td>2</td>\n",
       "    </tr>\n",
       "    <tr>\n",
       "      <th>3</th>\n",
       "      <td>1</td>\n",
       "      <td>670</td>\n",
       "      <td>2021-03-06</td>\n",
       "      <td>Jacket</td>\n",
       "      <td>2</td>\n",
       "    </tr>\n",
       "    <tr>\n",
       "      <th>4</th>\n",
       "      <td>1</td>\n",
       "      <td>670</td>\n",
       "      <td>2021-03-06</td>\n",
       "      <td>Shirt</td>\n",
       "      <td>1</td>\n",
       "    </tr>\n",
       "    <tr>\n",
       "      <th>...</th>\n",
       "      <td>...</td>\n",
       "      <td>...</td>\n",
       "      <td>...</td>\n",
       "      <td>...</td>\n",
       "      <td>...</td>\n",
       "    </tr>\n",
       "    <tr>\n",
       "      <th>4575</th>\n",
       "      <td>998</td>\n",
       "      <td>773</td>\n",
       "      <td>2021-07-19</td>\n",
       "      <td>Shirt</td>\n",
       "      <td>2</td>\n",
       "    </tr>\n",
       "    <tr>\n",
       "      <th>4576</th>\n",
       "      <td>998</td>\n",
       "      <td>773</td>\n",
       "      <td>2021-07-19</td>\n",
       "      <td>Jacket</td>\n",
       "      <td>3</td>\n",
       "    </tr>\n",
       "    <tr>\n",
       "      <th>4577</th>\n",
       "      <td>998</td>\n",
       "      <td>773</td>\n",
       "      <td>2021-07-19</td>\n",
       "      <td>Shirt</td>\n",
       "      <td>2</td>\n",
       "    </tr>\n",
       "    <tr>\n",
       "      <th>4578</th>\n",
       "      <td>998</td>\n",
       "      <td>773</td>\n",
       "      <td>2021-07-19</td>\n",
       "      <td>Shirt</td>\n",
       "      <td>1</td>\n",
       "    </tr>\n",
       "    <tr>\n",
       "      <th>4579</th>\n",
       "      <td>998</td>\n",
       "      <td>773</td>\n",
       "      <td>2021-07-19</td>\n",
       "      <td>Trousers</td>\n",
       "      <td>2</td>\n",
       "    </tr>\n",
       "  </tbody>\n",
       "</table>\n",
       "<p>4580 rows × 5 columns</p>\n",
       "</div>"
      ],
      "text/plain": [
       "      customer_id  order_id order_date product_type  quantity\n",
       "0               1       455 2021-04-04       Jacket         2\n",
       "1               1       455 2021-04-04        Shirt         3\n",
       "2               1       670 2021-03-06       Jacket         2\n",
       "3               1       670 2021-03-06       Jacket         2\n",
       "4               1       670 2021-03-06        Shirt         1\n",
       "...           ...       ...        ...          ...       ...\n",
       "4575          998       773 2021-07-19        Shirt         2\n",
       "4576          998       773 2021-07-19       Jacket         3\n",
       "4577          998       773 2021-07-19        Shirt         2\n",
       "4578          998       773 2021-07-19        Shirt         1\n",
       "4579          998       773 2021-07-19     Trousers         2\n",
       "\n",
       "[4580 rows x 5 columns]"
      ]
     },
     "execution_count": 24,
     "metadata": {},
     "output_type": "execute_result"
    }
   ],
   "source": [
    "df"
   ]
  },
  {
   "cell_type": "code",
   "execution_count": 25,
   "id": "427d9d82",
   "metadata": {},
   "outputs": [
    {
     "name": "stdout",
     "output_type": "stream",
     "text": [
      "datetime64[ns]\n"
     ]
    }
   ],
   "source": [
    "print(df[\"order_date\"].dtypes)"
   ]
  },
  {
   "cell_type": "code",
   "execution_count": 26,
   "id": "816b033b",
   "metadata": {},
   "outputs": [],
   "source": [
    "df = df.set_index(\"order_date\")"
   ]
  },
  {
   "cell_type": "code",
   "execution_count": 27,
   "id": "2c450f76",
   "metadata": {},
   "outputs": [],
   "source": [
    "grouped = df.groupby(\"product_type\").resample(\"M\")\n",
    "monthly_totals = grouped[\"quantity\"].sum()\n"
   ]
  },
  {
   "cell_type": "code",
   "execution_count": 28,
   "id": "480c368d",
   "metadata": {},
   "outputs": [
    {
     "data": {
      "text/plain": [
       "product_type  order_date\n",
       "Jacket        2021-01-31    395\n",
       "              2021-02-28    316\n",
       "              2021-03-31    427\n",
       "              2021-04-30    318\n",
       "              2021-05-31    289\n",
       "              2021-06-30    305\n",
       "              2021-07-31    360\n",
       "              2021-08-31    355\n",
       "              2021-09-30    310\n",
       "Shirt         2021-01-31    353\n",
       "              2021-02-28    268\n",
       "              2021-03-31    412\n",
       "              2021-04-30    331\n",
       "              2021-05-31    237\n",
       "              2021-06-30    347\n",
       "              2021-07-31    404\n",
       "              2021-08-31    321\n",
       "              2021-09-30    308\n",
       "Trousers      2021-01-31    395\n",
       "              2021-02-28    336\n",
       "              2021-03-31    425\n",
       "              2021-04-30    295\n",
       "              2021-05-31    303\n",
       "              2021-06-30    330\n",
       "              2021-07-31    358\n",
       "              2021-08-31    332\n",
       "              2021-09-30    270\n",
       "Name: quantity, dtype: int64"
      ]
     },
     "execution_count": 28,
     "metadata": {},
     "output_type": "execute_result"
    }
   ],
   "source": [
    "monthly_totals"
   ]
  },
  {
   "cell_type": "code",
   "execution_count": 29,
   "id": "f2177317",
   "metadata": {},
   "outputs": [],
   "source": [
    "def create_product_df(group):\n",
    "    product_type = group[\"product_type\"].iloc[0]\n",
    "    data = group[[\"quantity\"]].sum()\n",
    "    return pd.DataFrame(data, columns=[\"quantity\"])\n",
    "\n",
    "products = {}\n",
    "for product_type, group in df.groupby(\"product_type\"):\n",
    "    resampled = group.resample(\"M\")\n",
    "    for month, data in resampled:\n",
    "        if product_type not in products:\n",
    "            products[product_type] = create_product_df(data)\n",
    "        else:\n",
    "            products[product_type] = pd.concat([products[product_type], create_product_df(data)])\n"
   ]
  },
  {
   "cell_type": "code",
   "execution_count": 30,
   "id": "c22d1a3e",
   "metadata": {},
   "outputs": [
    {
     "name": "stdout",
     "output_type": "stream",
     "text": [
      "Jacket: data (9): [0 1 2 3 4 5 6 7 8], train_data (7): [0 1 2 3 4 5 6], test_data (2): [0 1]\n",
      "Shirt: data (9): [0 1 2 3 4 5 6 7 8], train_data (7): [0 1 2 3 4 5 6], test_data (2): [0 1]\n",
      "Pants: data (9): [0 1 2 3 4 5 6 7 8], train_data (7): [0 1 2 3 4 5 6], test_data (2): [0 1]\n"
     ]
    }
   ],
   "source": [
    "import pandas as pd\n",
    "\n",
    "# define the data and train_size\n",
    "data = [0, 1, 2, 3, 4, 5, 6, 7, 8]\n",
    "train_size = 7\n",
    "\n",
    "# create a dictionary for each product\n",
    "products = {\n",
    "    \"Jacket\": {},\n",
    "    \"Shirt\": {},\n",
    "    \"Pants\": {}\n",
    "}\n",
    "\n",
    "# set the train_data and test_data arrays as values in each product dictionary\n",
    "for name in products.keys():\n",
    "    train_data, test_data = data[:train_size], data[train_size:]\n",
    "    products[name][\"train_data\"] = train_data\n",
    "    products[name][\"test_data\"] = test_data\n",
    "\n",
    "    print(f\"{name}: data ({len(data)}): {pd.Series(data).index.values}, train_data ({len(train_data)}): {pd.Series(train_data).index.values}, test_data ({len(test_data)}): {pd.Series(test_data).index.values}\")\n"
   ]
  },
  {
   "cell_type": "code",
   "execution_count": 16,
   "id": "df30a748",
   "metadata": {},
   "outputs": [
    {
     "name": "stderr",
     "output_type": "stream",
     "text": [
      "C:\\Users\\valer\\anaconda3\\lib\\site-packages\\statsmodels\\tsa\\statespace\\sarimax.py:966: UserWarning: Non-stationary starting autoregressive parameters found. Using zeros as starting parameters.\n",
      "  warn('Non-stationary starting autoregressive parameters'\n",
      "C:\\Users\\valer\\anaconda3\\lib\\site-packages\\statsmodels\\base\\model.py:604: ConvergenceWarning: Maximum Likelihood optimization failed to converge. Check mle_retvals\n",
      "  warnings.warn(\"Maximum Likelihood optimization failed to \"\n"
     ]
    },
    {
     "name": "stdout",
     "output_type": "stream",
     "text": [
      "Jacket: 6.999855657205232\n"
     ]
    },
    {
     "name": "stderr",
     "output_type": "stream",
     "text": [
      "C:\\Users\\valer\\anaconda3\\lib\\site-packages\\statsmodels\\base\\model.py:604: ConvergenceWarning: Maximum Likelihood optimization failed to converge. Check mle_retvals\n",
      "  warnings.warn(\"Maximum Likelihood optimization failed to \"\n"
     ]
    },
    {
     "name": "stdout",
     "output_type": "stream",
     "text": [
      "Shirt: 6.999855657205232\n",
      "Pants: 6.999855657205232\n"
     ]
    },
    {
     "name": "stderr",
     "output_type": "stream",
     "text": [
      "C:\\Users\\valer\\anaconda3\\lib\\site-packages\\statsmodels\\base\\model.py:604: ConvergenceWarning: Maximum Likelihood optimization failed to converge. Check mle_retvals\n",
      "  warnings.warn(\"Maximum Likelihood optimization failed to \"\n"
     ]
    }
   ],
   "source": [
    "import numpy as np\n",
    "import pandas as pd\n",
    "from statsmodels.tsa.arima.model import ARIMA\n",
    "\n",
    "# define the data and train_size\n",
    "data = [0, 1, 2, 3, 4, 5, 6, 7, 8]\n",
    "train_size = 7\n",
    "\n",
    "# create a dictionary for each product\n",
    "products = {\n",
    "    \"Jacket\": {},\n",
    "    \"Shirt\": {},\n",
    "    \"Pants\": {}\n",
    "}\n",
    "\n",
    "# set the train_data and test_data arrays as values in each product dictionary\n",
    "for name in products.keys():\n",
    "    train_data, test_data = data[:train_size], data[train_size:]\n",
    "    products[name][\"train_data\"] = train_data\n",
    "    products[name][\"test_data\"] = test_data\n",
    "\n",
    "    # fit an ARIMA model to the training data and forecast the next month's sales\n",
    "    model = ARIMA(train_data, order=(1, 1, 1))\n",
    "    model_fit = model.fit()\n",
    "    forecast = model_fit.forecast()[0]\n",
    "    products[name][\"forecast\"] = forecast\n",
    "\n",
    "    # print the forecast for the next month\n",
    "    print(f\"{name}: {forecast}\")\n"
   ]
  },
  {
   "cell_type": "code",
   "execution_count": null,
   "id": "580bd030",
   "metadata": {},
   "outputs": [],
   "source": [
    "\n"
   ]
  },
  {
   "cell_type": "code",
   "execution_count": 17,
   "id": "ca0270ba",
   "metadata": {},
   "outputs": [
    {
     "name": "stderr",
     "output_type": "stream",
     "text": [
      "C:\\Users\\valer\\anaconda3\\lib\\site-packages\\statsmodels\\base\\model.py:604: ConvergenceWarning: Maximum Likelihood optimization failed to converge. Check mle_retvals\n",
      "  warnings.warn(\"Maximum Likelihood optimization failed to \"\n"
     ]
    },
    {
     "name": "stdout",
     "output_type": "stream",
     "text": [
      "Jacket: 6.999855657205232\n"
     ]
    },
    {
     "name": "stderr",
     "output_type": "stream",
     "text": [
      "C:\\Users\\valer\\anaconda3\\lib\\site-packages\\statsmodels\\base\\model.py:604: ConvergenceWarning: Maximum Likelihood optimization failed to converge. Check mle_retvals\n",
      "  warnings.warn(\"Maximum Likelihood optimization failed to \"\n"
     ]
    },
    {
     "name": "stdout",
     "output_type": "stream",
     "text": [
      "Shirt: 6.999855657205232\n",
      "Pants: 6.999855657205232\n"
     ]
    },
    {
     "name": "stderr",
     "output_type": "stream",
     "text": [
      "C:\\Users\\valer\\anaconda3\\lib\\site-packages\\statsmodels\\base\\model.py:604: ConvergenceWarning: Maximum Likelihood optimization failed to converge. Check mle_retvals\n",
      "  warnings.warn(\"Maximum Likelihood optimization failed to \"\n"
     ]
    }
   ],
   "source": [
    "# set the train_data and test_data arrays as values in each product dictionary\n",
    "for name in products.keys():\n",
    "    train_data, test_data = data[:train_size], data[train_size:]\n",
    "    products[name][\"train_data\"] = train_data\n",
    "    products[name][\"test_data\"] = test_data\n",
    "\n",
    "    # fit an ARIMA model to the training data and forecast the next month's sales\n",
    "    model = ARIMA(train_data, order=(1, 1, 1))\n",
    "    model_fit = model.fit()\n",
    "    forecast = model_fit.forecast()[0]\n",
    "    products[name][\"forecast\"] = forecast\n",
    "\n",
    "    # print the forecast for the next month\n",
    "    print(f\"{name}: {forecast}\")\n"
   ]
  },
  {
   "cell_type": "code",
   "execution_count": 79,
   "id": "7d88d8e3",
   "metadata": {},
   "outputs": [
    {
     "data": {
      "image/png": "[encoded data removed]",
      "text/plain": [
       "<Figure size 640x480 with 1 Axes>"
      ]
     },
     "metadata": {},
     "output_type": "display_data"
    }
   ],
   "source": [
    "# get the forecast values for the \"Jacket\" product\n",
    "jacket_forecast = products[\"Jacket\"][\"forecast\"]\n",
    "\n",
    "# plot the actual and forecast values\n",
    "plt.plot(data, label=\"Actual\")\n",
    "plt.plot([train_size, train_size+1], [train_data[-1], jacket_forecast], label=\"Forecast\")\n",
    "plt.legend()\n",
    "plt.show()\n"
   ]
  },
  {
   "cell_type": "code",
   "execution_count": 80,
   "id": "55528fd0",
   "metadata": {},
   "outputs": [
    {
     "data": {
      "image/png": "[encoded data removed]",
      "text/plain": [
       "<Figure size 1000x600 with 1 Axes>"
      ]
     },
     "metadata": {},
     "output_type": "display_data"
    }
   ],
   "source": [
    "import matplotlib.pyplot as plt\n",
    "\n",
    "# Get the forecast values for the \"Jacket\" product\n",
    "jacket_forecast = products[\"Jacket\"][\"forecast\"]\n",
    "\n",
    "# Set the figure size and font size\n",
    "plt.figure(figsize=(10, 6))\n",
    "plt.rcParams.update({\"font.size\": 14})\n",
    "\n",
    "# Plot the actual and forecast values\n",
    "plt.plot(data, color=\"#1f77b4\", label=\"Actual\")\n",
    "plt.plot([train_size, train_size+1], [train_data[-1], jacket_forecast], color=\"#ff7f0e\", marker=\"o\", markersize=10, label=\"Forecast\")\n",
    "\n",
    "# Add titles, labels, and legend\n",
    "plt.title(\"Sales Forecast for Jacket Product\")\n",
    "plt.xlabel(\"Time (months)\")\n",
    "plt.ylabel(\"Sales\")\n",
    "plt.xticks([i for i in range(len(data))], [f\"Month {i+1}\" for i in range(len(data))])\n",
    "plt.legend()\n",
    "\n",
    "# Add a grid and remove spines\n",
    "plt.grid(axis=\"y\", linestyle=\"--\", alpha=0.7)\n",
    "for spine in [\"top\", \"right\"]:\n",
    "    plt.gca().spines[spine].set_visible(False)\n",
    "\n",
    "# Show the plot\n",
    "plt.show()\n"
   ]
  },
  {
   "cell_type": "code",
   "execution_count": 81,
   "id": "0adcd457",
   "metadata": {},
   "outputs": [
    {
     "name": "stderr",
     "output_type": "stream",
     "text": [
      "C:\\Users\\valer\\anaconda3\\lib\\site-packages\\statsmodels\\base\\model.py:604: ConvergenceWarning: Maximum Likelihood optimization failed to converge. Check mle_retvals\n",
      "  warnings.warn(\"Maximum Likelihood optimization failed to \"\n",
      "C:\\Users\\valer\\anaconda3\\lib\\site-packages\\statsmodels\\base\\model.py:604: ConvergenceWarning: Maximum Likelihood optimization failed to converge. Check mle_retvals\n",
      "  warnings.warn(\"Maximum Likelihood optimization failed to \"\n"
     ]
    },
    {
     "name": "stdout",
     "output_type": "stream",
     "text": [
      "Jacket forecasted sales for the next 4 months: [6.99985566 7.9994639  8.9988248  9.99793842]\n",
      "Shirt forecasted sales for the next 4 months: [6.99985566 7.9994639  8.9988248  9.99793842]\n",
      "Trousers forecasted sales for the next 4 months: [6.99985566 7.9994639  8.9988248  9.99793842]\n"
     ]
    },
    {
     "name": "stderr",
     "output_type": "stream",
     "text": [
      "C:\\Users\\valer\\anaconda3\\lib\\site-packages\\statsmodels\\base\\model.py:604: ConvergenceWarning: Maximum Likelihood optimization failed to converge. Check mle_retvals\n",
      "  warnings.warn(\"Maximum Likelihood optimization failed to \"\n"
     ]
    }
   ],
   "source": [
    "import numpy as np\n",
    "import pandas as pd\n",
    "from statsmodels.tsa.arima.model import ARIMA\n",
    "\n",
    "# define the data and train_size\n",
    "data = [0, 1, 2, 3, 4, 5, 6, 7, 8]\n",
    "train_size = 7\n",
    "\n",
    "# create a dictionary for each product\n",
    "products = {\n",
    "    \"Jacket\": {},\n",
    "    \"Shirt\": {},\n",
    "    \"Trousers\": {}\n",
    "}\n",
    "\n",
    "# set the train_data and test_data arrays as values in each product dictionary\n",
    "for name in products.keys():\n",
    "    train_data, test_data = data[:train_size], data[train_size:]\n",
    "    products[name][\"train_data\"] = train_data\n",
    "    products[name][\"test_data\"] = test_data\n",
    "\n",
    "    # fit an ARIMA model to the training data and forecast the next 4 months' sales\n",
    "    model = ARIMA(train_data, order=(1, 1, 1))\n",
    "    model_fit = model.fit()\n",
    "    forecast = model_fit.forecast(steps=4)\n",
    "    products[name][\"forecast\"] = forecast\n",
    "\n",
    "    # print the forecast for the next 4 months\n",
    "    print(f\"{name} forecasted sales for the next 4 months: {forecast}\")\n"
   ]
  },
  {
   "cell_type": "code",
   "execution_count": 83,
   "id": "9fe0a746",
   "metadata": {},
   "outputs": [
    {
     "ename": "NameError",
     "evalue": "name 'models' is not defined",
     "output_type": "error",
     "traceback": [
      "\u001b[1;31m---------------------------------------------------------------------------\u001b[0m",
      "\u001b[1;31mNameError\u001b[0m                                 Traceback (most recent call last)",
      "Cell \u001b[1;32mIn[83], line 2\u001b[0m\n\u001b[0;32m      1\u001b[0m \u001b[38;5;66;03m# get the forecast values for each product\u001b[39;00m\n\u001b[1;32m----> 2\u001b[0m forecasts \u001b[38;5;241m=\u001b[39m {name: model\u001b[38;5;241m.\u001b[39mforecast(steps\u001b[38;5;241m=\u001b[39m\u001b[38;5;241m4\u001b[39m) \u001b[38;5;28;01mfor\u001b[39;00m name, model \u001b[38;5;129;01min\u001b[39;00m \u001b[43mmodels\u001b[49m\u001b[38;5;241m.\u001b[39mitems()}\n\u001b[0;32m      4\u001b[0m \u001b[38;5;66;03m# plot the actual and forecast values for each product\u001b[39;00m\n\u001b[0;32m      5\u001b[0m fig, axs \u001b[38;5;241m=\u001b[39m plt\u001b[38;5;241m.\u001b[39msubplots(\u001b[38;5;241m1\u001b[39m, \u001b[38;5;241m3\u001b[39m, figsize\u001b[38;5;241m=\u001b[39m(\u001b[38;5;241m15\u001b[39m,\u001b[38;5;241m5\u001b[39m))\n",
      "\u001b[1;31mNameError\u001b[0m: name 'models' is not defined"
     ]
    }
   ],
   "source": [
    "# get the forecast values for each product\n",
    "forecasts = {name: model.forecast(steps=4) for name, model in models.items()}\n",
    "\n",
    "# plot the actual and forecast values for each product\n",
    "fig, axs = plt.subplots(1, 3, figsize=(15,5))\n",
    "\n",
    "for i, (name, data) in enumerate(products.items()):\n",
    "    train_data, test_data = data[\"train\"], data[\"test\"]\n",
    "    train_size = len(train_data)\n",
    "    forecast = forecasts[name]\n",
    "    axs[i].plot(train_data + test_data, label=\"Actual\")\n",
    "    axs[i].plot(range(train_size, train_size+4), forecast, label=\"Forecast\")\n",
    "    axs[i].set_title(name)\n",
    "    axs[i].set_xlabel(\"Month\")\n",
    "    axs[i].set_ylabel(\"Sales\")\n",
    "    axs[i].legend()\n",
    "\n",
    "plt.show()\n"
   ]
  },
  {
   "cell_type": "code",
   "execution_count": 84,
   "id": "80ce75c4",
   "metadata": {},
   "outputs": [
    {
     "name": "stderr",
     "output_type": "stream",
     "text": [
      "C:\\Users\\valer\\anaconda3\\lib\\site-packages\\statsmodels\\base\\model.py:604: ConvergenceWarning: Maximum Likelihood optimization failed to converge. Check mle_retvals\n",
      "  warnings.warn(\"Maximum Likelihood optimization failed to \"\n"
     ]
    },
    {
     "name": "stdout",
     "output_type": "stream",
     "text": [
      "Jacket forecasted sales for the next 4 months: [6.99985566 7.9994639  8.9988248  9.99793842]\n"
     ]
    },
    {
     "name": "stderr",
     "output_type": "stream",
     "text": [
      "C:\\Users\\valer\\anaconda3\\lib\\site-packages\\statsmodels\\base\\model.py:604: ConvergenceWarning: Maximum Likelihood optimization failed to converge. Check mle_retvals\n",
      "  warnings.warn(\"Maximum Likelihood optimization failed to \"\n"
     ]
    },
    {
     "name": "stdout",
     "output_type": "stream",
     "text": [
      "Shirt forecasted sales for the next 4 months: [6.99985566 7.9994639  8.9988248  9.99793842]\n"
     ]
    },
    {
     "name": "stderr",
     "output_type": "stream",
     "text": [
      "C:\\Users\\valer\\anaconda3\\lib\\site-packages\\statsmodels\\base\\model.py:604: ConvergenceWarning: Maximum Likelihood optimization failed to converge. Check mle_retvals\n",
      "  warnings.warn(\"Maximum Likelihood optimization failed to \"\n"
     ]
    },
    {
     "name": "stdout",
     "output_type": "stream",
     "text": [
      "Trousers forecasted sales for the next 4 months: [6.99985566 7.9994639  8.9988248  9.99793842]\n"
     ]
    },
    {
     "data": {
      "image/png": "[encoded data removed]",
      "text/plain": [
       "<Figure size 1500x500 with 3 Axes>"
      ]
     },
     "metadata": {},
     "output_type": "display_data"
    }
   ],
   "source": [
    "import numpy as np\n",
    "import pandas as pd\n",
    "from statsmodels.tsa.arima.model import ARIMA\n",
    "import matplotlib.pyplot as plt\n",
    "\n",
    "# define the data and train_size\n",
    "data = [0, 1, 2, 3, 4, 5, 6, 7, 8]\n",
    "train_size = 7\n",
    "\n",
    "# create a dictionary for each product\n",
    "products = {\n",
    "    \"Jacket\": {},\n",
    "    \"Shirt\": {},\n",
    "    \"Trousers\": {}\n",
    "}\n",
    "\n",
    "# set the train_data and test_data arrays as values in each product dictionary\n",
    "for name in products.keys():\n",
    "    train_data, test_data = data[:train_size], data[train_size:]\n",
    "    products[name][\"train\"] = train_data\n",
    "    products[name][\"test\"] = test_data\n",
    "\n",
    "    # fit an ARIMA model to the training data and forecast the next 4 months' sales\n",
    "    model = ARIMA(train_data, order=(1, 1, 1))\n",
    "    model_fit = model.fit()\n",
    "    forecast = model_fit.forecast(steps=4)\n",
    "    products[name][\"forecast\"] = forecast\n",
    "\n",
    "    # print the forecast for the next 4 months\n",
    "    print(f\"{name} forecasted sales for the next 4 months: {forecast}\")\n",
    "\n",
    "# plot the actual and forecasted sales for each product\n",
    "fig, axs = plt.subplots(1, 3, figsize=(15,5))\n",
    "\n",
    "for i, (name, data) in enumerate(products.items()):\n",
    "    train_data, test_data = data[\"train\"], data[\"test\"]\n",
    "    forecast = data[\"forecast\"]\n",
    "    axs[i].plot(train_data + test_data, label=\"Actual\")\n",
    "    axs[i].plot(range(train_size, train_size+4), forecast, label=\"Forecast\")\n",
    "    axs[i].set_title(name)\n",
    "    axs[i].set_xlabel(\"Month\")\n",
    "    axs[i].set_ylabel(\"Sales\")\n",
    "    axs[i].legend()\n",
    "\n",
    "plt.show()\n"
   ]
  },
  {
   "cell_type": "code",
   "execution_count": null,
   "id": "7609d43e",
   "metadata": {},
   "outputs": [],
   "source": []
  }
 ],
 "metadata": {
  "kernelspec": {
   "display_name": "Python 3 (ipykernel)",
   "language": "python",
   "name": "python3"
  },
  "language_info": {
   "codemirror_mode": {
    "name": "ipython",
    "version": 3
   },
   "file_extension": ".py",
   "mimetype": "text/x-python",
   "name": "python",
   "nbconvert_exporter": "python",
   "pygments_lexer": "ipython3",
   "version": "3.9.15"
  }
 },
 "nbformat": 4,
 "nbformat_minor": 5
}
