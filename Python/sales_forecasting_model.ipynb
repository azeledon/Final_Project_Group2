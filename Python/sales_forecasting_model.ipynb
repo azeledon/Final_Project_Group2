{
 "cells": [
  {
   "cell_type": "markdown",
   "id": "58779cc3",
   "metadata": {},
   "source": [
    "# Sales Forecasting Model"
   ]
  },
  {
   "cell_type": "code",
   "execution_count": 46,
   "id": "958a1b18",
   "metadata": {},
   "outputs": [],
   "source": [
    "import pandas as pd\n",
    "from sklearn.metrics import mean_squared_error\n",
    "from statsmodels.tsa.arima.model import ARIMA"
   ]
  },
  {
   "cell_type": "code",
   "execution_count": 47,
   "id": "593dbb0a",
   "metadata": {},
   "outputs": [],
   "source": [
    "# Load the data into a pandas dataframe\n",
    "df = pd.read_csv(\"../Queries/order_history.csv\")"
   ]
  },
  {
   "cell_type": "code",
   "execution_count": 48,
   "id": "fbde8314",
   "metadata": {},
   "outputs": [
    {
     "data": {
      "text/html": [
       "<div>\n",
       "<style scoped>\n",
       "    .dataframe tbody tr th:only-of-type {\n",
       "        vertical-align: middle;\n",
       "    }\n",
       "\n",
       "    .dataframe tbody tr th {\n",
       "        vertical-align: top;\n",
       "    }\n",
       "\n",
       "    .dataframe thead th {\n",
       "        text-align: right;\n",
       "    }\n",
       "</style>\n",
       "<table border=\"1\" class=\"dataframe\">\n",
       "  <thead>\n",
       "    <tr style=\"text-align: right;\">\n",
       "      <th></th>\n",
       "      <th>customer_id</th>\n",
       "      <th>order_id</th>\n",
       "      <th>order_date</th>\n",
       "      <th>product_type</th>\n",
       "      <th>quantity</th>\n",
       "    </tr>\n",
       "  </thead>\n",
       "  <tbody>\n",
       "    <tr>\n",
       "      <th>0</th>\n",
       "      <td>1</td>\n",
       "      <td>455</td>\n",
       "      <td>2021-04-04</td>\n",
       "      <td>Jacket</td>\n",
       "      <td>2</td>\n",
       "    </tr>\n",
       "    <tr>\n",
       "      <th>1</th>\n",
       "      <td>1</td>\n",
       "      <td>455</td>\n",
       "      <td>2021-04-04</td>\n",
       "      <td>Shirt</td>\n",
       "      <td>3</td>\n",
       "    </tr>\n",
       "    <tr>\n",
       "      <th>2</th>\n",
       "      <td>1</td>\n",
       "      <td>670</td>\n",
       "      <td>2021-03-06</td>\n",
       "      <td>Jacket</td>\n",
       "      <td>2</td>\n",
       "    </tr>\n",
       "    <tr>\n",
       "      <th>3</th>\n",
       "      <td>1</td>\n",
       "      <td>670</td>\n",
       "      <td>2021-03-06</td>\n",
       "      <td>Jacket</td>\n",
       "      <td>2</td>\n",
       "    </tr>\n",
       "    <tr>\n",
       "      <th>4</th>\n",
       "      <td>1</td>\n",
       "      <td>670</td>\n",
       "      <td>2021-03-06</td>\n",
       "      <td>Shirt</td>\n",
       "      <td>1</td>\n",
       "    </tr>\n",
       "  </tbody>\n",
       "</table>\n",
       "</div>"
      ],
      "text/plain": [
       "   customer_id  order_id  order_date product_type  quantity\n",
       "0            1       455  2021-04-04       Jacket         2\n",
       "1            1       455  2021-04-04        Shirt         3\n",
       "2            1       670  2021-03-06       Jacket         2\n",
       "3            1       670  2021-03-06       Jacket         2\n",
       "4            1       670  2021-03-06        Shirt         1"
      ]
     },
     "execution_count": 48,
     "metadata": {},
     "output_type": "execute_result"
    }
   ],
   "source": [
    "# Convert the order_date column to datetime datatype and set it as the index\n",
    "df.head()"
   ]
  },
  {
   "cell_type": "code",
   "execution_count": 50,
   "id": "7671611c",
   "metadata": {},
   "outputs": [],
   "source": [
    "df['order_date'] = pd.to_datetime(df['order_date'])"
   ]
  },
  {
   "cell_type": "code",
   "execution_count": 51,
   "id": "6bb48b5f",
   "metadata": {},
   "outputs": [
    {
     "data": {
      "text/html": [
       "<div>\n",
       "<style scoped>\n",
       "    .dataframe tbody tr th:only-of-type {\n",
       "        vertical-align: middle;\n",
       "    }\n",
       "\n",
       "    .dataframe tbody tr th {\n",
       "        vertical-align: top;\n",
       "    }\n",
       "\n",
       "    .dataframe thead th {\n",
       "        text-align: right;\n",
       "    }\n",
       "</style>\n",
       "<table border=\"1\" class=\"dataframe\">\n",
       "  <thead>\n",
       "    <tr style=\"text-align: right;\">\n",
       "      <th></th>\n",
       "      <th>customer_id</th>\n",
       "      <th>order_id</th>\n",
       "      <th>order_date</th>\n",
       "      <th>product_type</th>\n",
       "      <th>quantity</th>\n",
       "    </tr>\n",
       "  </thead>\n",
       "  <tbody>\n",
       "    <tr>\n",
       "      <th>0</th>\n",
       "      <td>1</td>\n",
       "      <td>455</td>\n",
       "      <td>2021-04-04</td>\n",
       "      <td>Jacket</td>\n",
       "      <td>2</td>\n",
       "    </tr>\n",
       "    <tr>\n",
       "      <th>1</th>\n",
       "      <td>1</td>\n",
       "      <td>455</td>\n",
       "      <td>2021-04-04</td>\n",
       "      <td>Shirt</td>\n",
       "      <td>3</td>\n",
       "    </tr>\n",
       "    <tr>\n",
       "      <th>2</th>\n",
       "      <td>1</td>\n",
       "      <td>670</td>\n",
       "      <td>2021-03-06</td>\n",
       "      <td>Jacket</td>\n",
       "      <td>2</td>\n",
       "    </tr>\n",
       "    <tr>\n",
       "      <th>3</th>\n",
       "      <td>1</td>\n",
       "      <td>670</td>\n",
       "      <td>2021-03-06</td>\n",
       "      <td>Jacket</td>\n",
       "      <td>2</td>\n",
       "    </tr>\n",
       "    <tr>\n",
       "      <th>4</th>\n",
       "      <td>1</td>\n",
       "      <td>670</td>\n",
       "      <td>2021-03-06</td>\n",
       "      <td>Shirt</td>\n",
       "      <td>1</td>\n",
       "    </tr>\n",
       "  </tbody>\n",
       "</table>\n",
       "</div>"
      ],
      "text/plain": [
       "   customer_id  order_id order_date product_type  quantity\n",
       "0            1       455 2021-04-04       Jacket         2\n",
       "1            1       455 2021-04-04        Shirt         3\n",
       "2            1       670 2021-03-06       Jacket         2\n",
       "3            1       670 2021-03-06       Jacket         2\n",
       "4            1       670 2021-03-06        Shirt         1"
      ]
     },
     "execution_count": 51,
     "metadata": {},
     "output_type": "execute_result"
    }
   ],
   "source": [
    "df.head()"
   ]
  },
  {
   "cell_type": "code",
   "execution_count": 53,
   "id": "427d9d82",
   "metadata": {},
   "outputs": [
    {
     "name": "stdout",
     "output_type": "stream",
     "text": [
      "datetime64[ns]\n"
     ]
    }
   ],
   "source": [
    "print(df[\"order_date\"].dtypes)\n"
   ]
  },
  {
   "cell_type": "code",
   "execution_count": 55,
   "id": "816b033b",
   "metadata": {},
   "outputs": [],
   "source": [
    "df = df.set_index(\"order_date\")"
   ]
  },
  {
   "cell_type": "code",
   "execution_count": 56,
   "id": "2c450f76",
   "metadata": {},
   "outputs": [],
   "source": [
    "grouped = df.groupby(\"product_type\").resample(\"M\")\n",
    "monthly_totals = grouped[\"quantity\"].sum()\n"
   ]
  },
  {
   "cell_type": "code",
   "execution_count": 57,
   "id": "480c368d",
   "metadata": {},
   "outputs": [
    {
     "data": {
      "text/plain": [
       "product_type  order_date\n",
       "Jacket        2021-01-31    395\n",
       "              2021-02-28    316\n",
       "              2021-03-31    427\n",
       "              2021-04-30    318\n",
       "              2021-05-31    289\n",
       "Name: quantity, dtype: int64"
      ]
     },
     "execution_count": 57,
     "metadata": {},
     "output_type": "execute_result"
    }
   ],
   "source": [
    "monthly_totals.head()"
   ]
  },
  {
   "cell_type": "code",
   "execution_count": 61,
   "id": "f2177317",
   "metadata": {},
   "outputs": [],
   "source": [
    "def create_product_df(group):\n",
    "    product_type = group[\"product_type\"].iloc[0]\n",
    "    data = group[[\"quantity\"]].sum()\n",
    "    return pd.DataFrame(data, columns=[\"quantity\"])\n",
    "\n",
    "products = {}\n",
    "for product_type, group in df.groupby(\"product_type\"):\n",
    "    resampled = group.resample(\"M\")\n",
    "    for month, data in resampled:\n",
    "        if product_type not in products:\n",
    "            products[product_type] = create_product_df(data)\n",
    "        else:\n",
    "            products[product_type] = pd.concat([products[product_type], create_product_df(data)])\n"
   ]
  },
  {
   "cell_type": "code",
   "execution_count": 67,
   "id": "c22d1a3e",
   "metadata": {},
   "outputs": [
    {
     "name": "stdout",
     "output_type": "stream",
     "text": [
      "Jacket: data (9): [0 1 2 3 4 5 6 7 8], train_data (7): [0 1 2 3 4 5 6], test_data (2): [0 1]\n",
      "Shirt: data (9): [0 1 2 3 4 5 6 7 8], train_data (7): [0 1 2 3 4 5 6], test_data (2): [0 1]\n",
      "Pants: data (9): [0 1 2 3 4 5 6 7 8], train_data (7): [0 1 2 3 4 5 6], test_data (2): [0 1]\n"
     ]
    }
   ],
   "source": [
    "import pandas as pd\n",
    "\n",
    "# define the data and train_size\n",
    "data = [0, 1, 2, 3, 4, 5, 6, 7, 8]\n",
    "train_size = 7\n",
    "\n",
    "# create a dictionary for each product\n",
    "products = {\n",
    "    \"Jacket\": {},\n",
    "    \"Shirt\": {},\n",
    "    \"Pants\": {}\n",
    "}\n",
    "\n",
    "# set the train_data and test_data arrays as values in each product dictionary\n",
    "for name in products.keys():\n",
    "    train_data, test_data = data[:train_size], data[train_size:]\n",
    "    products[name][\"train_data\"] = train_data\n",
    "    products[name][\"test_data\"] = test_data\n",
    "\n",
    "    print(f\"{name}: data ({len(data)}): {pd.Series(data).index.values}, train_data ({len(train_data)}): {pd.Series(train_data).index.values}, test_data ({len(test_data)}): {pd.Series(test_data).index.values}\")\n"
   ]
  },
  {
   "cell_type": "code",
   "execution_count": 69,
   "id": "df30a748",
   "metadata": {},
   "outputs": [
    {
     "name": "stderr",
     "output_type": "stream",
     "text": [
      "C:\\Users\\valer\\anaconda3\\lib\\site-packages\\statsmodels\\tsa\\statespace\\sarimax.py:966: UserWarning: Non-stationary starting autoregressive parameters found. Using zeros as starting parameters.\n",
      "  warn('Non-stationary starting autoregressive parameters'\n",
      "C:\\Users\\valer\\anaconda3\\lib\\site-packages\\statsmodels\\base\\model.py:604: ConvergenceWarning: Maximum Likelihood optimization failed to converge. Check mle_retvals\n",
      "  warnings.warn(\"Maximum Likelihood optimization failed to \"\n"
     ]
    },
    {
     "name": "stdout",
     "output_type": "stream",
     "text": [
      "Jacket: 6.999855657205232\n",
      "Shirt: 6.999855657205232\n",
      "Pants: 6.999855657205232\n"
     ]
    },
    {
     "name": "stderr",
     "output_type": "stream",
     "text": [
      "C:\\Users\\valer\\anaconda3\\lib\\site-packages\\statsmodels\\base\\model.py:604: ConvergenceWarning: Maximum Likelihood optimization failed to converge. Check mle_retvals\n",
      "  warnings.warn(\"Maximum Likelihood optimization failed to \"\n",
      "C:\\Users\\valer\\anaconda3\\lib\\site-packages\\statsmodels\\base\\model.py:604: ConvergenceWarning: Maximum Likelihood optimization failed to converge. Check mle_retvals\n",
      "  warnings.warn(\"Maximum Likelihood optimization failed to \"\n"
     ]
    }
   ],
   "source": [
    "import numpy as np\n",
    "import pandas as pd\n",
    "from statsmodels.tsa.arima.model import ARIMA\n",
    "\n",
    "# define the data and train_size\n",
    "data = [0, 1, 2, 3, 4, 5, 6, 7, 8]\n",
    "train_size = 7\n",
    "\n",
    "# create a dictionary for each product\n",
    "products = {\n",
    "    \"Jacket\": {},\n",
    "    \"Shirt\": {},\n",
    "    \"Pants\": {}\n",
    "}\n",
    "\n",
    "# set the train_data and test_data arrays as values in each product dictionary\n",
    "for name in products.keys():\n",
    "    train_data, test_data = data[:train_size], data[train_size:]\n",
    "    products[name][\"train_data\"] = train_data\n",
    "    products[name][\"test_data\"] = test_data\n",
    "\n",
    "    # fit an ARIMA model to the training data and forecast the next month's sales\n",
    "    model = ARIMA(train_data, order=(1, 1, 1))\n",
    "    model_fit = model.fit()\n",
    "    forecast = model_fit.forecast()[0]\n",
    "    products[name][\"forecast\"] = forecast\n",
    "\n",
    "    # print the forecast for the next month\n",
    "    print(f\"{name}: {forecast}\")\n"
   ]
  },
  {
   "cell_type": "code",
   "execution_count": null,
   "id": "580bd030",
   "metadata": {},
   "outputs": [],
   "source": []
  }
 ],
 "metadata": {
  "kernelspec": {
   "display_name": "Python 3 (ipykernel)",
   "language": "python",
   "name": "python3"
  },
  "language_info": {
   "codemirror_mode": {
    "name": "ipython",
    "version": 3
   },
   "file_extension": ".py",
   "mimetype": "text/x-python",
   "name": "python",
   "nbconvert_exporter": "python",
   "pygments_lexer": "ipython3",
   "version": "3.9.15"
  }
 },
 "nbformat": 4,
 "nbformat_minor": 5
}
