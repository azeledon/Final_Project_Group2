{
 "cells": [
  {
   "cell_type": "code",
   "execution_count": 4,
   "id": "a11cc3b5",
   "metadata": {},
   "outputs": [],
   "source": [
    "import pandas as pd\n",
    "from sklearn.metrics import mean_squared_error\n",
    "from statsmodels.tsa.arima.model import ARIMA"
   ]
  },
  {
   "cell_type": "code",
   "execution_count": 5,
   "id": "2558bb83",
   "metadata": {},
   "outputs": [],
   "source": [
    "# Load the data into a pandas dataframe\n",
    "df = pd.read_csv(\"../Queries/order_history.csv\")"
   ]
  },
  {
   "cell_type": "code",
   "execution_count": 6,
   "id": "ddda637a",
   "metadata": {},
   "outputs": [],
   "source": [
    "# Convert the order_date column to datetime datatype and set it as the index\n",
    "df['order_date'] = pd.to_datetime(df['order_date'])"
   ]
  },
  {
   "cell_type": "code",
   "execution_count": 7,
   "id": "a74595be",
   "metadata": {},
   "outputs": [],
   "source": [
    "df = df.set_index(\"order_date\")"
   ]
  },
  {
   "cell_type": "code",
   "execution_count": 8,
   "id": "e528f3e8",
   "metadata": {},
   "outputs": [],
   "source": [
    "grouped = df.groupby(\"product_type\").resample(\"M\")\n",
    "monthly_totals = grouped[\"quantity\"].sum()"
   ]
  },
  {
   "cell_type": "code",
   "execution_count": 12,
   "id": "326dee58",
   "metadata": {},
   "outputs": [
    {
     "data": {
      "text/plain": [
       "product_type  order_date\n",
       "Jacket        2021-01-31    395\n",
       "              2021-02-28    316\n",
       "              2021-03-31    427\n",
       "              2021-04-30    318\n",
       "              2021-05-31    289\n",
       "              2021-06-30    305\n",
       "              2021-07-31    360\n",
       "              2021-08-31    355\n",
       "              2021-09-30    310\n",
       "Shirt         2021-01-31    353\n",
       "              2021-02-28    268\n",
       "              2021-03-31    412\n",
       "              2021-04-30    331\n",
       "              2021-05-31    237\n",
       "              2021-06-30    347\n",
       "              2021-07-31    404\n",
       "              2021-08-31    321\n",
       "              2021-09-30    308\n",
       "Trousers      2021-01-31    395\n",
       "              2021-02-28    336\n",
       "              2021-03-31    425\n",
       "              2021-04-30    295\n",
       "              2021-05-31    303\n",
       "              2021-06-30    330\n",
       "              2021-07-31    358\n",
       "              2021-08-31    332\n",
       "              2021-09-30    270\n",
       "Name: quantity, dtype: int64"
      ]
     },
     "execution_count": 12,
     "metadata": {},
     "output_type": "execute_result"
    }
   ],
   "source": [
    "monthly_totals"
   ]
  },
  {
   "cell_type": "code",
   "execution_count": 16,
   "id": "1749fe7f",
   "metadata": {},
   "outputs": [],
   "source": [
    "def create_product_df(group):\n",
    "    product_type = group[\"product_type\"].iloc[0]\n",
    "    data = group[[\"quantity\"]].sum()\n",
    "    return pd.DataFrame(data, columns=[\"quantity\"])\n",
    "\n",
    "products = {}\n",
    "for product_type, group in df.groupby(\"product_type\"):\n",
    "    resampled = group.resample(\"M\")\n",
    "    for month, data in resampled:\n",
    "        if product_type not in products:\n",
    "            products[product_type] = create_product_df(data)\n",
    "        else:\n",
    "            products[product_type] = pd.concat([products[product_type], create_product_df(data)])"
   ]
  },
  {
   "cell_type": "code",
   "execution_count": 17,
   "id": "ef6b9168",
   "metadata": {},
   "outputs": [
    {
     "data": {
      "text/plain": [
       "{'Jacket':           quantity\n",
       " quantity       395\n",
       " quantity       316\n",
       " quantity       427\n",
       " quantity       318\n",
       " quantity       289\n",
       " quantity       305\n",
       " quantity       360\n",
       " quantity       355\n",
       " quantity       310,\n",
       " 'Shirt':           quantity\n",
       " quantity       353\n",
       " quantity       268\n",
       " quantity       412\n",
       " quantity       331\n",
       " quantity       237\n",
       " quantity       347\n",
       " quantity       404\n",
       " quantity       321\n",
       " quantity       308,\n",
       " 'Trousers':           quantity\n",
       " quantity       395\n",
       " quantity       336\n",
       " quantity       425\n",
       " quantity       295\n",
       " quantity       303\n",
       " quantity       330\n",
       " quantity       358\n",
       " quantity       332\n",
       " quantity       270}"
      ]
     },
     "execution_count": 17,
     "metadata": {},
     "output_type": "execute_result"
    }
   ],
   "source": [
    "products"
   ]
  },
  {
   "cell_type": "code",
   "execution_count": 18,
   "id": "6f4ad1ee",
   "metadata": {},
   "outputs": [
    {
     "name": "stdout",
     "output_type": "stream",
     "text": [
      "Jacket: data (9): [0 1 2 3 4 5 6 7 8], train_data (7): [0 1 2 3 4 5 6], test_data (2): [0 1]\n",
      "Shirt: data (9): [0 1 2 3 4 5 6 7 8], train_data (7): [0 1 2 3 4 5 6], test_data (2): [0 1]\n",
      "Pants: data (9): [0 1 2 3 4 5 6 7 8], train_data (7): [0 1 2 3 4 5 6], test_data (2): [0 1]\n"
     ]
    }
   ],
   "source": [
    "import pandas as pd\n",
    "\n",
    "# define the data and train_size\n",
    "data = [0, 1, 2, 3, 4, 5, 6, 7, 8]\n",
    "train_size = 7\n",
    "\n",
    "# create a dictionary for each product\n",
    "products = {\n",
    "    \"Jacket\": {},\n",
    "    \"Shirt\": {},\n",
    "    \"Pants\": {}\n",
    "}\n",
    "\n",
    "# set the train_data and test_data arrays as values in each product dictionary\n",
    "for name in products.keys():\n",
    "    train_data, test_data = data[:train_size], data[train_size:]\n",
    "    products[name][\"train_data\"] = train_data\n",
    "    products[name][\"test_data\"] = test_data\n",
    "\n",
    "    print(f\"{name}: data ({len(data)}): {pd.Series(data).index.values}, train_data ({len(train_data)}): {pd.Series(train_data).index.values}, test_data ({len(test_data)}): {pd.Series(test_data).index.values}\")\n"
   ]
  },
  {
   "cell_type": "code",
   "execution_count": 19,
   "id": "bf5dfa58",
   "metadata": {},
   "outputs": [
    {
     "name": "stderr",
     "output_type": "stream",
     "text": [
      "C:\\Users\\valer\\anaconda3\\envs\\mlenv\\lib\\site-packages\\statsmodels\\tsa\\statespace\\sarimax.py:966: UserWarning: Non-stationary starting autoregressive parameters found. Using zeros as starting parameters.\n",
      "  warn('Non-stationary starting autoregressive parameters'\n",
      "C:\\Users\\valer\\anaconda3\\envs\\mlenv\\lib\\site-packages\\statsmodels\\base\\model.py:606: ConvergenceWarning: Maximum Likelihood optimization failed to converge. Check mle_retvals\n",
      "  ConvergenceWarning)\n"
     ]
    },
    {
     "name": "stdout",
     "output_type": "stream",
     "text": [
      "Jacket: 6.999877638155598\n",
      "Shirt: 6.999877638155598\n",
      "Pants: 6.999877638155598\n"
     ]
    },
    {
     "name": "stderr",
     "output_type": "stream",
     "text": [
      "C:\\Users\\valer\\anaconda3\\envs\\mlenv\\lib\\site-packages\\statsmodels\\base\\model.py:606: ConvergenceWarning: Maximum Likelihood optimization failed to converge. Check mle_retvals\n",
      "  ConvergenceWarning)\n",
      "C:\\Users\\valer\\anaconda3\\envs\\mlenv\\lib\\site-packages\\statsmodels\\base\\model.py:606: ConvergenceWarning: Maximum Likelihood optimization failed to converge. Check mle_retvals\n",
      "  ConvergenceWarning)\n"
     ]
    }
   ],
   "source": [
    "# define the data and train_size\n",
    "data = [0, 1, 2, 3, 4, 5, 6, 7, 8]\n",
    "train_size = 7\n",
    "\n",
    "# create a dictionary for each product\n",
    "products = {\n",
    "    \"Jacket\": {},\n",
    "    \"Shirt\": {},\n",
    "    \"Pants\": {}\n",
    "}\n",
    "\n",
    "# set the train_data and test_data arrays as values in each product dictionary\n",
    "for name in products.keys():\n",
    "    train_data, test_data = data[:train_size], data[train_size:]\n",
    "    products[name][\"train_data\"] = train_data\n",
    "    products[name][\"test_data\"] = test_data\n",
    "\n",
    "    # fit an ARIMA model to the training data and forecast the next month's sales\n",
    "    model = ARIMA(train_data, order=(1, 1, 1))\n",
    "    model_fit = model.fit()\n",
    "    forecast = model_fit.forecast()[0]\n",
    "    products[name][\"forecast\"] = forecast\n",
    "\n",
    "    # print the forecast for the next month\n",
    "    print(f\"{name}: {forecast}\")"
   ]
  },
  {
   "cell_type": "code",
   "execution_count": null,
   "id": "e3851ba6",
   "metadata": {},
   "outputs": [],
   "source": []
  }
 ],
 "metadata": {
  "kernelspec": {
   "display_name": "mlenv",
   "language": "python",
   "name": "mlenv"
  },
  "language_info": {
   "codemirror_mode": {
    "name": "ipython",
    "version": 3
   },
   "file_extension": ".py",
   "mimetype": "text/x-python",
   "name": "python",
   "nbconvert_exporter": "python",
   "pygments_lexer": "ipython3",
   "version": "3.7.13"
  }
 },
 "nbformat": 4,
 "nbformat_minor": 5
}
